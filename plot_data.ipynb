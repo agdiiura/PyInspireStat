{
 "cells": [
  {
   "cell_type": "markdown",
   "metadata": {},
   "source": [
    "# PyInspireStat\n",
    "\n",
    "## pyinspirestat.py\n",
    "\n",
    "The script is largely based on `pyinspire.py` by Ian Huston (https://bitbucket.org/ihuston/pyinspire). The script can be used to get time series from the `inSpire` database (http://inspirehep.net/) assuming a given `query`. The script, by default, returns the number of papers that satisfy the `query` as function of the time. The maximum number of papers in a given year is `max_number_results`.\n",
    "\n",
    "The code is optimized to return the number of papers in a given year, however it can be easily modified to obtain more sophisticated information."
   ]
  },
  {
   "cell_type": "markdown",
   "metadata": {},
   "source": [
    "## Run `pyinspirestat.py`\n",
    "\n",
    "Using the script `pyinspirestat.py` the default `query` is `find t neutrino and date year`, where `year` is an integer in the range $1950 \\div 1960$. The default value for `max_number_results` is `10000`. From the script it is possible to get `np.array` with two column, namely the year and the number of papers. \n",
    "\n",
    "The data obtained with `pyinspirestat.py` are even stored in a `.dat` file.\n",
    "\n",
    "**Notice that** the code can be very slow."
   ]
  },
  {
   "cell_type": "code",
   "execution_count": 1,
   "metadata": {
    "collapsed": false
   },
   "outputs": [
    {
     "name": "stdout",
     "output_type": "stream",
     "text": [
      "\n",
      "Year =  1950 . Completed @ 9.1 %\n",
      "Number of papers:  0\n",
      "\n",
      "Year =  1951 . Completed @ 18.2 %\n",
      "Number of papers:  0\n",
      "\n",
      "Year =  1952 . Completed @ 27.3 %\n",
      "Number of papers:  2\n",
      "\n",
      "Year =  1953 . Completed @ 36.4 %\n",
      "Number of papers:  2\n",
      "\n",
      "Year =  1954 . Completed @ 45.5 %\n",
      "Number of papers:  1\n",
      "\n",
      "Year =  1955 . Completed @ 54.5 %\n",
      "Number of papers:  1\n",
      "\n",
      "Year =  1956 . Completed @ 63.6 %\n",
      "Number of papers:  3\n",
      "\n",
      "Year =  1957 . Completed @ 72.7 %\n",
      "Number of papers:  8\n",
      "\n",
      "Year =  1958 . Completed @ 81.8 %\n",
      "Number of papers:  3\n",
      "\n",
      "Year =  1959 . Completed @ 90.9 %\n",
      "Number of papers:  5\n",
      "\n",
      "Year =  1960 . Completed @ 100.0 %\n",
      "Number of papers:  14\n",
      "\n",
      "\n",
      "[[1950    0]\n",
      " [1951    0]\n",
      " [1952    2]\n",
      " [1953    2]\n",
      " [1954    1]\n",
      " [1955    1]\n",
      " [1956    3]\n",
      " [1957    8]\n",
      " [1958    3]\n",
      " [1959    5]\n",
      " [1960   14]]\n"
     ]
    }
   ],
   "source": [
    "import matplotlib\n",
    "import numpy as np\n",
    "import matplotlib.pyplot as plt\n",
    "\n",
    "\n",
    "import pyinspirestat as pis\n"
   ]
  },
  {
   "cell_type": "markdown",
   "metadata": {},
   "source": [
    "## Plot data\n",
    "\n",
    "In this example the number of papers that contain the word *neutrino* in the title are shown as function of the year."
   ]
  },
  {
   "cell_type": "code",
   "execution_count": 5,
   "metadata": {
    "collapsed": false
   },
   "outputs": [
    {
     "data": {
      "image/png": "[encoded data removed]",
      "text/plain": [
       "<matplotlib.figure.Figure at 0x7f5d287fcba8>"
      ]
     },
     "metadata": {},
     "output_type": "display_data"
    }
   ],
   "source": [
    "%matplotlib inline  \n",
    "\n",
    "years_range = range(pis.start_year - 1, pis.stop_year)\n",
    "plt.bar(years_range, pis.npoutput[:,1], color='green')\n",
    "\n",
    "\n",
    "\n",
    "\n",
    "plt.ylim((0,16))\n",
    "plt.ylabel('Number of papers', fontsize= 20)\n",
    "plt.xlabel('Year', fontsize= 20)\n",
    "plt.grid(True)\n",
    "matplotlib.rc('ytick', labelsize = 15) \n",
    "matplotlib.rc('xtick', labelsize = 15) \n",
    "plt.GridLineStyle = '--'\n",
    "\n",
    "plt.show()"
   ]
  },
  {
   "cell_type": "code",
   "execution_count": null,
   "metadata": {
    "collapsed": false
   },
   "outputs": [],
   "source": []
  }
 ],
 "metadata": {
  "kernelspec": {
   "display_name": "Python 3",
   "language": "python",
   "name": "python3"
  },
  "language_info": {
   "codemirror_mode": {
    "name": "ipython",
    "version": 3
   },
   "file_extension": ".py",
   "mimetype": "text/x-python",
   "name": "python",
   "nbconvert_exporter": "python",
   "pygments_lexer": "ipython3",
   "version": "3.5.0"
  }
 },
 "nbformat": 4,
 "nbformat_minor": 0
}
